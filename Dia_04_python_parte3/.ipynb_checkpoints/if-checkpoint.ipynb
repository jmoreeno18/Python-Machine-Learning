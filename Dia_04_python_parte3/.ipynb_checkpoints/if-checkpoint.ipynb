{
 "cells": [
  {
   "cell_type": "code",
   "execution_count": 1,
   "id": "03abef11-d85d-4d23-87f9-86e4307e465f",
   "metadata": {},
   "outputs": [
    {
     "name": "stdout",
     "output_type": "stream",
     "text": [
      "Hace calor\n"
     ]
    }
   ],
   "source": [
    "temperatura = 22\n",
    "if(temperatura > 20):\n",
    "    print('Hace calor')\n",
    "    "
   ]
  },
  {
   "cell_type": "code",
   "execution_count": 2,
   "id": "ff6c4d99-35be-4286-99bf-81adef0b55ce",
   "metadata": {},
   "outputs": [],
   "source": [
    "temperatura = 15\n",
    "if(temperatura > 20):\n",
    "    print('Hace calor')"
   ]
  },
  {
   "cell_type": "code",
   "execution_count": 4,
   "id": "5087f7f8-ddc8-4120-a72d-d3cb0a1f49ad",
   "metadata": {},
   "outputs": [
    {
     "name": "stdin",
     "output_type": "stream",
     "text": [
      "Dime la temperatura:  21\n"
     ]
    },
    {
     "name": "stdout",
     "output_type": "stream",
     "text": [
      "Hace calor\n"
     ]
    }
   ],
   "source": [
    "temperatura = int(input('Dime la temperatura: '))\n",
    "if(temperatura > 20):\n",
    "    print('Hace calor')"
   ]
  },
  {
   "cell_type": "code",
   "execution_count": 8,
   "id": "ecdb03e4-7353-4085-89eb-4808d3696b4f",
   "metadata": {},
   "outputs": [
    {
     "name": "stdin",
     "output_type": "stream",
     "text": [
      "Dime un nombre:  sergio\n"
     ]
    },
    {
     "name": "stdout",
     "output_type": "stream",
     "text": [
      "Sergio esta en mi grupo de amigos\n"
     ]
    }
   ],
   "source": [
    "amigos = ['Rober', 'Sergio', 'Oscar']\n",
    "nombre = input('Dime un nombre: ')\n",
    "nombre = nombre.capitalize()\n",
    "if nombre in amigos:\n",
    "    print(f'{nombre} esta en mi grupo de amigos')"
   ]
  },
  {
   "cell_type": "code",
   "execution_count": 12,
   "id": "82f03fcf-1bb5-47dc-a50d-4cb64663bbb6",
   "metadata": {},
   "outputs": [
    {
     "name": "stdout",
     "output_type": "stream",
     "text": [
      "Niño\n"
     ]
    }
   ],
   "source": [
    "edad = 12\n",
    "\n",
    "if (edad >= 18):\n",
    "    print('Adulto')\n",
    "elif (edad >= 13):\n",
    "    print('Adolescente')\n",
    "else:\n",
    "    print('Niño')"
   ]
  },
  {
   "cell_type": "code",
   "execution_count": null,
   "id": "263a5e19-1f96-4960-bb70-f6511580e34d",
   "metadata": {},
   "outputs": [],
   "source": [
    "x1, x2, x3 = int(input('Ingresa el primer numero: ')), int(input('Ingresa el segundo numero: ')), int(input('Ingresa el tercer numero: '))\n",
    "if (x1 > x2 and x1 > x3): \n",
    "    maximo = x1\n",
    "elif (x2 > x1 and x2 > x3):\n",
    "    maximo = x2\n",
    "else:\n",
    "    maximo = x3\n"
   ]
  }
 ],
 "metadata": {
  "kernelspec": {
   "display_name": "Python [conda env:base] *",
   "language": "python",
   "name": "conda-base-py"
  },
  "language_info": {
   "codemirror_mode": {
    "name": "ipython",
    "version": 3
   },
   "file_extension": ".py",
   "mimetype": "text/x-python",
   "name": "python",
   "nbconvert_exporter": "python",
   "pygments_lexer": "ipython3",
   "version": "3.13.5"
  }
 },
 "nbformat": 4,
 "nbformat_minor": 5
}
