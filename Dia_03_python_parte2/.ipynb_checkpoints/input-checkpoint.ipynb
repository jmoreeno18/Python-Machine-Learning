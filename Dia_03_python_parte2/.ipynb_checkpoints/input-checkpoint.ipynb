{
 "cells": [
  {
   "cell_type": "code",
   "execution_count": 3,
   "id": "4ddf9277-6ecd-4858-98a0-397a2a4d83fb",
   "metadata": {},
   "outputs": [
    {
     "name": "stdin",
     "output_type": "stream",
     "text": [
      "Dime tu nombre:  Javier\n"
     ]
    },
    {
     "name": "stdout",
     "output_type": "stream",
     "text": [
      "Hola Javier!\n"
     ]
    }
   ],
   "source": [
    "nombre = input('Dime tu nombre: ')\n",
    "print(\"Hola \" + nombre + \"!\")"
   ]
  },
  {
   "cell_type": "code",
   "execution_count": 4,
   "id": "69d9192c-89e3-4ac8-af7f-a5ee3c5bf410",
   "metadata": {},
   "outputs": [
    {
     "name": "stdin",
     "output_type": "stream",
     "text": [
      "Dime un numero:  3\n",
      "Dime un numero:  6\n"
     ]
    }
   ],
   "source": [
    "a = int(input(\"Dime un numero: \"))\n",
    "b = int(input(\"Dime un numero: \"))"
   ]
  },
  {
   "cell_type": "code",
   "execution_count": 5,
   "id": "259555db-9879-4e0b-976e-17142da35ce0",
   "metadata": {},
   "outputs": [
    {
     "data": {
      "text/plain": [
       "9"
      ]
     },
     "execution_count": 5,
     "metadata": {},
     "output_type": "execute_result"
    }
   ],
   "source": [
    "a + b"
   ]
  },
  {
   "cell_type": "code",
   "execution_count": 6,
   "id": "5765eaa0-24fb-482f-a84d-73ccf0fb598c",
   "metadata": {},
   "outputs": [
    {
     "data": {
      "text/plain": [
       "'Hola Ana'"
      ]
     },
     "execution_count": 6,
     "metadata": {},
     "output_type": "execute_result"
    }
   ],
   "source": [
    "saludo = \"Hola\"\n",
    "nombre = \"Ana\"\n",
    "frase = saludo + \" \" + nombre\n",
    "frase"
   ]
  },
  {
   "cell_type": "code",
   "execution_count": 7,
   "id": "12fc5721-844d-4379-99c5-20f7edad6dc5",
   "metadata": {},
   "outputs": [],
   "source": [
    "edad = 30"
   ]
  },
  {
   "cell_type": "code",
   "execution_count": 8,
   "id": "5d546685-0311-4099-b84a-34e3eb3434aa",
   "metadata": {},
   "outputs": [],
   "source": [
    "frase = f\"Hola {nombre}, tienes {edad} años\""
   ]
  },
  {
   "cell_type": "code",
   "execution_count": 9,
   "id": "85b12c25-0caa-461d-95a5-4966a658129d",
   "metadata": {},
   "outputs": [
    {
     "data": {
      "text/plain": [
       "'Hola Ana, tienes 30 años'"
      ]
     },
     "execution_count": 9,
     "metadata": {},
     "output_type": "execute_result"
    }
   ],
   "source": [
    "frase"
   ]
  },
  {
   "cell_type": "code",
   "execution_count": 10,
   "id": "c0768777-14d7-491c-984a-1e8d11329a68",
   "metadata": {},
   "outputs": [
    {
     "name": "stdout",
     "output_type": "stream",
     "text": [
      "Hay 10 manzana y su precio total es de 3.0\n"
     ]
    }
   ],
   "source": [
    "producto = \"manzana\"\n",
    "cantidad = 10\n",
    "precio = 0.3\n",
    "\n",
    "print(f\"Hay {cantidad} {producto} y su precio total es de {cantidad * precio}\")"
   ]
  },
  {
   "cell_type": "code",
   "execution_count": null,
   "id": "1fbf1eca-9881-4d19-a112-75818b15fcc7",
   "metadata": {},
   "outputs": [],
   "source": []
  }
 ],
 "metadata": {
  "kernelspec": {
   "display_name": "Python [conda env:base] *",
   "language": "python",
   "name": "conda-base-py"
  },
  "language_info": {
   "codemirror_mode": {
    "name": "ipython",
    "version": 3
   },
   "file_extension": ".py",
   "mimetype": "text/x-python",
   "name": "python",
   "nbconvert_exporter": "python",
   "pygments_lexer": "ipython3",
   "version": "3.13.5"
  }
 },
 "nbformat": 4,
 "nbformat_minor": 5
}
