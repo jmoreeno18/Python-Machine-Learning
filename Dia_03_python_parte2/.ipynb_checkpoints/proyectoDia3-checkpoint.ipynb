{
 "cells": [
  {
   "cell_type": "code",
   "execution_count": 3,
   "id": "beb8a7cd-13b9-425b-8806-22b93e501c15",
   "metadata": {},
   "outputs": [
    {
     "name": "stdin",
     "output_type": "stream",
     "text": [
      "Ingresa una frase que contenga al menos 10 palabras:  Hola me llamo Javier y tengo 24 años y cumplo 25 en agosto\n"
     ]
    },
    {
     "name": "stdout",
     "output_type": "stream",
     "text": [
      "El numero total de caracteres es 58\n"
     ]
    }
   ],
   "source": [
    "frase = input(\"Ingresa una frase que contenga al menos 10 palabras: \")\n",
    "frase\n",
    "numero_caracteres = len(frase)\n",
    "print(f\"El numero total de caracteres es {numero_caracteres}\")"
   ]
  },
  {
   "cell_type": "code",
   "execution_count": 4,
   "id": "159c6936-ac6e-4983-bf53-86a727e64736",
   "metadata": {},
   "outputs": [
    {
     "name": "stdout",
     "output_type": "stream",
     "text": [
      "El numero de caracteres sin espacios en blancos es: 46\n"
     ]
    }
   ],
   "source": [
    "numero_caracteres_sin_espacios = numero_caracteres - frase.strip().count(\" \")\n",
    "print(f\"El numero de caracteres sin espacios en blancos es: {numero_caracteres_sin_espacios}\")"
   ]
  },
  {
   "cell_type": "code",
   "execution_count": 6,
   "id": "d09eed81-2291-4036-84d1-51ebcaea6679",
   "metadata": {},
   "outputs": [
    {
     "name": "stdout",
     "output_type": "stream",
     "text": [
      "La cantidad de vocales en el texto es de: 18\n"
     ]
    }
   ],
   "source": [
    "frase_minusculas = frase.lower()\n",
    "cantidad_vocales = sum(frase_minusculas.count(v) for v in \"aeiou\")\n",
    "print(f\"La cantidad de vocales en el texto es de: {cantidad_vocales}\")"
   ]
  },
  {
   "cell_type": "code",
   "execution_count": 7,
   "id": "547a0b85-d585-48f2-b8cb-8373894cd7f8",
   "metadata": {},
   "outputs": [
    {
     "name": "stdout",
     "output_type": "stream",
     "text": [
      "El numero total de palabras es de 13\n"
     ]
    }
   ],
   "source": [
    "palabras = frase.strip().split()\n",
    "total_palabras = len(palabras)\n",
    "print(f\"El numero total de palabras es de {total_palabras}\")"
   ]
  },
  {
   "cell_type": "code",
   "execution_count": 8,
   "id": "5fccee04-7e22-4017-8197-ab242aba449b",
   "metadata": {},
   "outputs": [
    {
     "data": {
      "text/plain": [
       "['__add__',\n",
       " '__class__',\n",
       " '__contains__',\n",
       " '__delattr__',\n",
       " '__dir__',\n",
       " '__doc__',\n",
       " '__eq__',\n",
       " '__format__',\n",
       " '__ge__',\n",
       " '__getattribute__',\n",
       " '__getitem__',\n",
       " '__getnewargs__',\n",
       " '__getstate__',\n",
       " '__gt__',\n",
       " '__hash__',\n",
       " '__init__',\n",
       " '__init_subclass__',\n",
       " '__iter__',\n",
       " '__le__',\n",
       " '__len__',\n",
       " '__lt__',\n",
       " '__mod__',\n",
       " '__mul__',\n",
       " '__ne__',\n",
       " '__new__',\n",
       " '__reduce__',\n",
       " '__reduce_ex__',\n",
       " '__repr__',\n",
       " '__rmod__',\n",
       " '__rmul__',\n",
       " '__setattr__',\n",
       " '__sizeof__',\n",
       " '__str__',\n",
       " '__subclasshook__',\n",
       " 'capitalize',\n",
       " 'casefold',\n",
       " 'center',\n",
       " 'count',\n",
       " 'encode',\n",
       " 'endswith',\n",
       " 'expandtabs',\n",
       " 'find',\n",
       " 'format',\n",
       " 'format_map',\n",
       " 'index',\n",
       " 'isalnum',\n",
       " 'isalpha',\n",
       " 'isascii',\n",
       " 'isdecimal',\n",
       " 'isdigit',\n",
       " 'isidentifier',\n",
       " 'islower',\n",
       " 'isnumeric',\n",
       " 'isprintable',\n",
       " 'isspace',\n",
       " 'istitle',\n",
       " 'isupper',\n",
       " 'join',\n",
       " 'ljust',\n",
       " 'lower',\n",
       " 'lstrip',\n",
       " 'maketrans',\n",
       " 'partition',\n",
       " 'removeprefix',\n",
       " 'removesuffix',\n",
       " 'replace',\n",
       " 'rfind',\n",
       " 'rindex',\n",
       " 'rjust',\n",
       " 'rpartition',\n",
       " 'rsplit',\n",
       " 'rstrip',\n",
       " 'split',\n",
       " 'splitlines',\n",
       " 'startswith',\n",
       " 'strip',\n",
       " 'swapcase',\n",
       " 'title',\n",
       " 'translate',\n",
       " 'upper',\n",
       " 'zfill']"
      ]
     },
     "execution_count": 8,
     "metadata": {},
     "output_type": "execute_result"
    }
   ],
   "source": [
    "dir(frase)"
   ]
  },
  {
   "cell_type": "code",
   "execution_count": 10,
   "id": "03897d21-18a5-4c2a-a941-d9787f48d1f9",
   "metadata": {},
   "outputs": [
    {
     "data": {
      "text/plain": [
       "['Hola',\n",
       " 'me',\n",
       " 'llamo',\n",
       " 'Javier',\n",
       " 'y',\n",
       " 'tengo',\n",
       " '24',\n",
       " 'años',\n",
       " 'y',\n",
       " 'cumplo',\n",
       " '25',\n",
       " 'en',\n",
       " 'agosto']"
      ]
     },
     "execution_count": 10,
     "metadata": {},
     "output_type": "execute_result"
    }
   ],
   "source": [
    "palabras"
   ]
  },
  {
   "cell_type": "code",
   "execution_count": 11,
   "id": "699a11c3-dba3-46f4-92da-5ed26a09dd7f",
   "metadata": {},
   "outputs": [
    {
     "data": {
      "text/plain": [
       "'me llamo Javier y tengo 24 años y cumplo 25 en agosto'"
      ]
     },
     "execution_count": 11,
     "metadata": {},
     "output_type": "execute_result"
    }
   ],
   "source": [
    "frase_sin_primera = \" \".join(palabras[1:])\n",
    "frase_sin_primera"
   ]
  },
  {
   "cell_type": "code",
   "execution_count": 12,
   "id": "b0806b61-b733-4400-95d4-30e48d31c936",
   "metadata": {},
   "outputs": [
    {
     "data": {
      "text/plain": [
       "'Hola me llamo Javier y tengo 24 años y cumplo 25 en agosto'"
      ]
     },
     "execution_count": 12,
     "metadata": {},
     "output_type": "execute_result"
    }
   ],
   "source": [
    "frase.replace(\" \", \"-\")\n",
    "frase"
   ]
  },
  {
   "cell_type": "code",
   "execution_count": 15,
   "id": "d3fbf247-2890-43f9-b8bd-8521cc5cc70a",
   "metadata": {},
   "outputs": [
    {
     "name": "stdout",
     "output_type": "stream",
     "text": [
      "No Python documentation found for 'Hola-me-llamo-Javier-y-tengo-24-años-y-cumplo-25-en-agosto'.\n",
      "Use help() to get the interactive help utility.\n",
      "Use help(str) for help on the str class.\n",
      "\n"
     ]
    }
   ],
   "source": [
    "help(frase.replace(\" \", \"-\"))"
   ]
  },
  {
   "cell_type": "code",
   "execution_count": 16,
   "id": "140c3b14-884a-479d-91da-35c3120d633c",
   "metadata": {},
   "outputs": [
    {
     "data": {
      "text/plain": [
       "'Hola-me-llamo-Javier-y-tengo-24-años-y-cumplo-25-en-agosto'"
      ]
     },
     "execution_count": 16,
     "metadata": {},
     "output_type": "execute_result"
    }
   ],
   "source": [
    "frase_guiones = frase.replace(\" \", \"-\")\n",
    "frase_guiones"
   ]
  },
  {
   "cell_type": "code",
   "execution_count": 17,
   "id": "d6921573-d11d-4be3-bd72-0ef9df2a8601",
   "metadata": {},
   "outputs": [
    {
     "data": {
      "text/plain": [
       "'hOLA ME LLAMO jAVIER Y TENGO 24 AÑOS Y CUMPLO 25 EN AGOSTO'"
      ]
     },
     "execution_count": 17,
     "metadata": {},
     "output_type": "execute_result"
    }
   ],
   "source": [
    "frase_upper = frase.swapcase()\n",
    "frase_upper"
   ]
  },
  {
   "cell_type": "code",
   "execution_count": null,
   "id": "cd3791e2-acdf-4de9-8c78-30c7a6c5aab2",
   "metadata": {},
   "outputs": [],
   "source": []
  }
 ],
 "metadata": {
  "kernelspec": {
   "display_name": "Python [conda env:base] *",
   "language": "python",
   "name": "conda-base-py"
  },
  "language_info": {
   "codemirror_mode": {
    "name": "ipython",
    "version": 3
   },
   "file_extension": ".py",
   "mimetype": "text/x-python",
   "name": "python",
   "nbconvert_exporter": "python",
   "pygments_lexer": "ipython3",
   "version": "3.13.5"
  }
 },
 "nbformat": 4,
 "nbformat_minor": 5
}
