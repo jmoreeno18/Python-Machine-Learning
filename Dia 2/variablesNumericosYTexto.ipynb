{
 "cells": [
  {
   "cell_type": "code",
   "execution_count": 1,
   "id": "51292bb0-25df-4d84-af13-31560b8945b1",
   "metadata": {},
   "outputs": [
    {
     "data": {
      "text/plain": [
       "1"
      ]
     },
     "execution_count": 1,
     "metadata": {},
     "output_type": "execute_result"
    }
   ],
   "source": [
    "1"
   ]
  },
  {
   "cell_type": "code",
   "execution_count": 2,
   "id": "67dedbd0-331a-4391-adc8-4108c118424c",
   "metadata": {},
   "outputs": [],
   "source": [
    "miNumero = 1"
   ]
  },
  {
   "cell_type": "code",
   "execution_count": 3,
   "id": "47a3284b-83ec-4333-8747-791c2e92163c",
   "metadata": {},
   "outputs": [
    {
     "data": {
      "text/plain": [
       "1"
      ]
     },
     "execution_count": 3,
     "metadata": {},
     "output_type": "execute_result"
    }
   ],
   "source": [
    "miNumero"
   ]
  },
  {
   "cell_type": "code",
   "execution_count": 4,
   "id": "ab0e60a0-e4e8-4e7e-9cf0-5481a9dc6762",
   "metadata": {},
   "outputs": [],
   "source": [
    "otroNumero = 2"
   ]
  },
  {
   "cell_type": "code",
   "execution_count": 5,
   "id": "10666a7f-0aae-437d-aeaf-96d0882f8f7c",
   "metadata": {},
   "outputs": [
    {
     "data": {
      "text/plain": [
       "3"
      ]
     },
     "execution_count": 5,
     "metadata": {},
     "output_type": "execute_result"
    }
   ],
   "source": [
    "miNumero + otroNumero"
   ]
  },
  {
   "cell_type": "code",
   "execution_count": 6,
   "id": "ba9909db-9af2-44a5-b170-abe97c37e476",
   "metadata": {},
   "outputs": [],
   "source": [
    "nuevoNumero = 3"
   ]
  },
  {
   "cell_type": "code",
   "execution_count": 7,
   "id": "38f9a17b-3c80-45a6-8ff3-cc00c4defdd7",
   "metadata": {},
   "outputs": [
    {
     "data": {
      "text/plain": [
       "'Hola Mundo'"
      ]
     },
     "execution_count": 7,
     "metadata": {},
     "output_type": "execute_result"
    }
   ],
   "source": [
    "\"Hola Mundo\""
   ]
  },
  {
   "cell_type": "code",
   "execution_count": 8,
   "id": "4480fa9f-3312-4a9c-a1f0-356745084d66",
   "metadata": {},
   "outputs": [
    {
     "data": {
      "text/plain": [
       "\"El libro 'El principito' es emocionante\""
      ]
     },
     "execution_count": 8,
     "metadata": {},
     "output_type": "execute_result"
    }
   ],
   "source": [
    "\"El libro 'El principito' es emocionante\""
   ]
  },
  {
   "cell_type": "code",
   "execution_count": 9,
   "id": "16b8f9f6-7c3c-4f88-b0a7-d5b498c85107",
   "metadata": {},
   "outputs": [],
   "source": [
    "miFrase = 'Hola Mundo'"
   ]
  },
  {
   "cell_type": "code",
   "execution_count": 10,
   "id": "5a1d2a41-8efc-4efe-9681-82257603ab64",
   "metadata": {},
   "outputs": [
    {
     "name": "stdout",
     "output_type": "stream",
     "text": [
      "Hola Mundo\n"
     ]
    }
   ],
   "source": [
    "print(miFrase)"
   ]
  },
  {
   "cell_type": "code",
   "execution_count": 11,
   "id": "8de3e246-cbb6-400e-861f-c834a0bbc260",
   "metadata": {},
   "outputs": [],
   "source": [
    "miFrase2 = \"Hola mundo\""
   ]
  },
  {
   "cell_type": "code",
   "execution_count": 12,
   "id": "448078bd-3053-4c52-8fbe-1d0416fd6a34",
   "metadata": {},
   "outputs": [],
   "source": [
    "miFrase = miFrase2"
   ]
  },
  {
   "cell_type": "code",
   "execution_count": 13,
   "id": "877b5db7-4441-47a9-ab6f-9585eacb9c6f",
   "metadata": {},
   "outputs": [
    {
     "data": {
      "text/plain": [
       "True"
      ]
     },
     "execution_count": 13,
     "metadata": {},
     "output_type": "execute_result"
    }
   ],
   "source": [
    "miFrase == miFrase2"
   ]
  },
  {
   "cell_type": "code",
   "execution_count": null,
   "id": "2e7f4565-a92f-4e45-ba6d-ffeee6d92698",
   "metadata": {},
   "outputs": [],
   "source": []
  }
 ],
 "metadata": {
  "kernelspec": {
   "display_name": "Python [conda env:base] *",
   "language": "python",
   "name": "conda-base-py"
  },
  "language_info": {
   "codemirror_mode": {
    "name": "ipython",
    "version": 3
   },
   "file_extension": ".py",
   "mimetype": "text/x-python",
   "name": "python",
   "nbconvert_exporter": "python",
   "pygments_lexer": "ipython3",
   "version": "3.13.5"
  }
 },
 "nbformat": 4,
 "nbformat_minor": 5
}
