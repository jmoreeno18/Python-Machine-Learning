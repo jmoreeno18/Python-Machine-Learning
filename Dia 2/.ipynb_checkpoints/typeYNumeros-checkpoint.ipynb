{
 "cells": [
  {
   "cell_type": "code",
   "execution_count": 1,
   "id": "f20840a2-5c10-46f2-b9fb-eefd82c41723",
   "metadata": {},
   "outputs": [],
   "source": [
    "a = 1\n",
    "b = \"1\""
   ]
  },
  {
   "cell_type": "code",
   "execution_count": 2,
   "id": "aeb8a603-15f1-41bc-84bd-d403b3ac2c2d",
   "metadata": {},
   "outputs": [
    {
     "data": {
      "text/plain": [
       "int"
      ]
     },
     "execution_count": 2,
     "metadata": {},
     "output_type": "execute_result"
    }
   ],
   "source": [
    "type(a)"
   ]
  },
  {
   "cell_type": "code",
   "execution_count": 3,
   "id": "e455cb34-75e9-4e5e-bb0f-a437c7301787",
   "metadata": {},
   "outputs": [
    {
     "data": {
      "text/plain": [
       "str"
      ]
     },
     "execution_count": 3,
     "metadata": {},
     "output_type": "execute_result"
    }
   ],
   "source": [
    "type(b)"
   ]
  },
  {
   "cell_type": "code",
   "execution_count": 4,
   "id": "be203492-5c9d-4750-afbf-55d51c224235",
   "metadata": {},
   "outputs": [
    {
     "data": {
      "text/plain": [
       "int"
      ]
     },
     "execution_count": 4,
     "metadata": {},
     "output_type": "execute_result"
    }
   ],
   "source": [
    "type(23)"
   ]
  },
  {
   "cell_type": "code",
   "execution_count": 5,
   "id": "7bfb056d-8ed7-4a87-b5c8-ea9d05545bed",
   "metadata": {},
   "outputs": [
    {
     "data": {
      "text/plain": [
       "float"
      ]
     },
     "execution_count": 5,
     "metadata": {},
     "output_type": "execute_result"
    }
   ],
   "source": [
    "type(3.12)"
   ]
  },
  {
   "cell_type": "code",
   "execution_count": 7,
   "id": "f42ee97e-d4ea-40c0-bb35-c71997746329",
   "metadata": {},
   "outputs": [
    {
     "data": {
      "text/plain": [
       "complex"
      ]
     },
     "execution_count": 7,
     "metadata": {},
     "output_type": "execute_result"
    }
   ],
   "source": [
    "type(3 + 4j)"
   ]
  },
  {
   "cell_type": "markdown",
   "id": "ebec8ac1-8388-4592-8a9d-a99b1bd46d9e",
   "metadata": {},
   "source": [
    "## Division al piso (Sin mostrar decimales)"
   ]
  },
  {
   "cell_type": "code",
   "execution_count": 12,
   "id": "6c8fba8a-baf3-4c83-bfe0-2aa0dec16888",
   "metadata": {},
   "outputs": [
    {
     "data": {
      "text/plain": [
       "3"
      ]
     },
     "execution_count": 12,
     "metadata": {},
     "output_type": "execute_result"
    }
   ],
   "source": [
    "10 // 3"
   ]
  },
  {
   "cell_type": "code",
   "execution_count": 13,
   "id": "38dec3b5-1747-4791-9e11-6bff6a15f75b",
   "metadata": {},
   "outputs": [],
   "source": [
    "a = 3 + 5j\n",
    "b = 2 + 2j"
   ]
  },
  {
   "cell_type": "code",
   "execution_count": 14,
   "id": "460643e2-47d0-4dc1-a394-d520cd3f9aed",
   "metadata": {},
   "outputs": [
    {
     "data": {
      "text/plain": [
       "(5+7j)"
      ]
     },
     "execution_count": 14,
     "metadata": {},
     "output_type": "execute_result"
    }
   ],
   "source": [
    "a + b"
   ]
  },
  {
   "cell_type": "code",
   "execution_count": null,
   "id": "e785aaf6-3e9c-4742-b0fa-6e674e8611b9",
   "metadata": {},
   "outputs": [],
   "source": []
  }
 ],
 "metadata": {
  "kernelspec": {
   "display_name": "Python [conda env:base] *",
   "language": "python",
   "name": "conda-base-py"
  },
  "language_info": {
   "codemirror_mode": {
    "name": "ipython",
    "version": 3
   },
   "file_extension": ".py",
   "mimetype": "text/x-python",
   "name": "python",
   "nbconvert_exporter": "python",
   "pygments_lexer": "ipython3",
   "version": "3.13.5"
  }
 },
 "nbformat": 4,
 "nbformat_minor": 5
}
