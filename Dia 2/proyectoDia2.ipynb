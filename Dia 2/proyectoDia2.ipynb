{
 "cells": [
  {
   "cell_type": "code",
   "execution_count": 1,
   "id": "73f79fe4-0468-45f6-a24e-2566c7dbb8ac",
   "metadata": {},
   "outputs": [],
   "source": [
    "nombre = \"Javier\"\n",
    "fecha = \"29/07/2025\"\n",
    "saludo = \"Buenos dias\""
   ]
  },
  {
   "cell_type": "code",
   "execution_count": 2,
   "id": "ff46f02e-7e12-44a7-a6b0-2e4c1b4aefbd",
   "metadata": {},
   "outputs": [],
   "source": [
    "bienvenida = saludo + ' ' + nombre + '. Estamos a dia ' + fecha"
   ]
  },
  {
   "cell_type": "code",
   "execution_count": 3,
   "id": "1369f1ce-1bfd-4fdf-8043-e78cd8a11a4b",
   "metadata": {},
   "outputs": [
    {
     "data": {
      "text/plain": [
       "'Buenos dias Javier. Estamos a dia 29/07/2025'"
      ]
     },
     "execution_count": 3,
     "metadata": {},
     "output_type": "execute_result"
    }
   ],
   "source": [
    "bienvenida"
   ]
  },
  {
   "cell_type": "code",
   "execution_count": 10,
   "id": "97be70d6-41f5-4874-9c2b-55aa1e0b966f",
   "metadata": {},
   "outputs": [],
   "source": [
    "dolares = 150.45\n",
    "euros_a_recibir = dolares * 0.88"
   ]
  },
  {
   "cell_type": "code",
   "execution_count": 25,
   "id": "cd5dc457-3ea8-4909-907f-9da192831b51",
   "metadata": {},
   "outputs": [],
   "source": [
    "billetes_10 = euros_a_recibir // 10\n",
    "billetes_1 = (euros_a_recibir - billetes_10 * 10) // 1\n",
    "monedas = euros_a_recibir % 1"
   ]
  },
  {
   "cell_type": "code",
   "execution_count": 26,
   "id": "c956a228-8808-4359-ba64-0f4b9d5b65ad",
   "metadata": {},
   "outputs": [
    {
     "name": "stdout",
     "output_type": "stream",
     "text": [
      "Buenos dias Javier. Estamos a dia 29/07/2025\n",
      "Usted entregará: 150.45\n",
      "Usted recibirá: 132.396\n",
      "Recibirá: 13.0 billetes de 10\n",
      "Recibirá: 2.0 billetes de 1\n",
      "Recibirá: 0.396 monedas\n"
     ]
    }
   ],
   "source": [
    "print(bienvenida)\n",
    "print(f'Usted entregará: {dolares}')\n",
    "print(f'Usted recibirá: {euros_a_recibir}')\n",
    "print(f'Recibirá: {billetes_10} billetes de 10')\n",
    "print(f'Recibirá: {billetes_1} billetes de 1')\n",
    "print(f'Recibirá: {monedas:.3f} monedas')"
   ]
  },
  {
   "cell_type": "code",
   "execution_count": null,
   "id": "e12b1922-b1c8-48ec-ac68-7876c12c4cf5",
   "metadata": {},
   "outputs": [],
   "source": []
  }
 ],
 "metadata": {
  "kernelspec": {
   "display_name": "Python [conda env:base] *",
   "language": "python",
   "name": "conda-base-py"
  },
  "language_info": {
   "codemirror_mode": {
    "name": "ipython",
    "version": 3
   },
   "file_extension": ".py",
   "mimetype": "text/x-python",
   "name": "python",
   "nbconvert_exporter": "python",
   "pygments_lexer": "ipython3",
   "version": "3.13.5"
  }
 },
 "nbformat": 4,
 "nbformat_minor": 5
}
