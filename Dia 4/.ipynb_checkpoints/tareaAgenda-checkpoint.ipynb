{
 "cells": [
  {
   "cell_type": "code",
   "execution_count": 2,
   "id": "db423d08-0740-41d1-9aa0-2066cf160ca8",
   "metadata": {},
   "outputs": [
    {
     "name": "stdout",
     "output_type": "stream",
     "text": [
      "¡Bienvenido a tu agenda de telefono!\n",
      "\n",
      "Si quieres agregar un contacto pulse 1\n",
      "Si quieres buscar un contacto pulse 2\n",
      "Si quieres editar un contacto pulse 3\n",
      "Si quieres eliminar un contacto pulse 4\n",
      "Si quieres mostrar toda la agenda pulse 5\n"
     ]
    },
    {
     "name": "stdin",
     "output_type": "stream",
     "text": [
      "Que funcionalidad quieres realizar:  1\n",
      "Nombre del contacto que deseas agregar:  Javier\n",
      "Telefono del contacto que deseas agregar:  686750757\n"
     ]
    },
    {
     "name": "stdout",
     "output_type": "stream",
     "text": [
      "Contacto agregado con exito\n",
      "{'Javier': '686750757'}\n"
     ]
    }
   ],
   "source": [
    "print('¡Bienvenido a tu agenda de telefono!')\n",
    "print(\"\")\n",
    "print('Si quieres agregar un contacto pulse 1')\n",
    "print('Si quieres buscar un contacto pulse 2')\n",
    "print('Si quieres editar un contacto pulse 3')\n",
    "print('Si quieres eliminar un contacto pulse 4')\n",
    "print('Si quieres mostrar toda la agenda pulse 5')\n",
    "funcionalidad = int(input('Que funcionalidad quieres realizar: '))\n",
    "agenda = {}\n",
    "if (funcionalidad >= 1 and funcionalidad <= 5):\n",
    "    if (funcionalidad == 1): \n",
    "        nombre = input('Nombre del contacto que deseas agregar: ')\n",
    "        telefono = input('Telefono del contacto que deseas agregar: ')\n",
    "        agenda[nombre] = telefono\n",
    "        print('Contacto agregado con exito')\n",
    "        print(agenda)\n",
    "    elif (funcionalidad == 2): \n",
    "        buscar_nombre = input('¿Que contacto deseas buscar? ')\n",
    "        if (buscar_nombre in agenda): \n",
    "            print(f'{buscar_nombre}: {agenda[buscar_nombre]}')\n",
    "        else: \n",
    "            print('No tienes agregado este contacto')\n",
    "    elif(funcionalidad == 3):\n",
    "        editar_contacto = input('¿Que contacto deseas editar? ')\n",
    "        if (editar_contacto in agenda):\n",
    "            telefono_editado = input('Modifica el telefono')\n",
    "            agenda[editar_contacto] = telefono_editado\n",
    "            print(f'En el contacto {editar_contacto} se ha sido modificado su numero de tlf a {telefono_editado}')\n",
    "        else:\n",
    "            print('No tienes ningun contacto con este telefono')\n",
    "    elif(funcionalidad == 4):\n",
    "        contacto_eliminado = input('¿Que contacto deseas eliminar?: ')\n",
    "        if contacto_eliminado in agenda:\n",
    "            agenda.pop(contacto_eliminado)\n",
    "            print('Contacto eliminado correctamente')\n",
    "        else:\n",
    "            print('Ya no está ese contacto')\n",
    "    elif(funcionalidad == 5):\n",
    "        print(agenda)\n",
    "else:\n",
    "    print('Tienes que marcar un numero entre del 1 al 5')"
   ]
  },
  {
   "cell_type": "code",
   "execution_count": null,
   "id": "b3553f0b-3416-4a3d-b413-05ab982505b3",
   "metadata": {},
   "outputs": [],
   "source": []
  }
 ],
 "metadata": {
  "kernelspec": {
   "display_name": "Python [conda env:base] *",
   "language": "python",
   "name": "conda-base-py"
  },
  "language_info": {
   "codemirror_mode": {
    "name": "ipython",
    "version": 3
   },
   "file_extension": ".py",
   "mimetype": "text/x-python",
   "name": "python",
   "nbconvert_exporter": "python",
   "pygments_lexer": "ipython3",
   "version": "3.13.5"
  }
 },
 "nbformat": 4,
 "nbformat_minor": 5
}
