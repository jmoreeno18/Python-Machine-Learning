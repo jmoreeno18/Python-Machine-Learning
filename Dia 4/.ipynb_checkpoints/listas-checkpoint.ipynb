{
 "cells": [
  {
   "cell_type": "code",
   "execution_count": 1,
   "id": "c6618f0e-65c1-48e7-aaaa-b74a901f8c6f",
   "metadata": {},
   "outputs": [],
   "source": [
    "frutas = [\"manzana\", \"platano\", \"pera\"]"
   ]
  },
  {
   "cell_type": "code",
   "execution_count": 2,
   "id": "36083c94-6075-480e-95b8-d528c2449e9a",
   "metadata": {},
   "outputs": [
    {
     "data": {
      "text/plain": [
       "list"
      ]
     },
     "execution_count": 2,
     "metadata": {},
     "output_type": "execute_result"
    }
   ],
   "source": [
    "type(frutas)"
   ]
  },
  {
   "cell_type": "code",
   "execution_count": 3,
   "id": "7cc4a487-7b1e-4660-96a9-7e63d4bdadb5",
   "metadata": {},
   "outputs": [],
   "source": [
    "numero = [10, 54, 78]"
   ]
  },
  {
   "cell_type": "code",
   "execution_count": 4,
   "id": "a805f257-cee8-4e60-a541-864bfc7d00ba",
   "metadata": {},
   "outputs": [],
   "source": [
    "misListas = [[10, 45, 54], [\"manzana\", \"pera\"], [\"a\", \"b\", \"c\"]]"
   ]
  },
  {
   "cell_type": "code",
   "execution_count": 5,
   "id": "da44aa06-cd69-43de-8bb0-9d4ffe48e4bf",
   "metadata": {},
   "outputs": [
    {
     "data": {
      "text/plain": [
       "'a'"
      ]
     },
     "execution_count": 5,
     "metadata": {},
     "output_type": "execute_result"
    }
   ],
   "source": [
    "misListas[2][0]"
   ]
  },
  {
   "cell_type": "code",
   "execution_count": 6,
   "id": "777a14d9-9ace-4673-a02d-239cd69019ff",
   "metadata": {},
   "outputs": [],
   "source": [
    "frutas[0] = 'sandia'"
   ]
  },
  {
   "cell_type": "code",
   "execution_count": 7,
   "id": "e7d37818-46c9-4db7-8de1-abbab487fa7b",
   "metadata": {},
   "outputs": [
    {
     "data": {
      "text/plain": [
       "['sandia', 'platano', 'pera']"
      ]
     },
     "execution_count": 7,
     "metadata": {},
     "output_type": "execute_result"
    }
   ],
   "source": [
    "frutas"
   ]
  },
  {
   "cell_type": "code",
   "execution_count": 8,
   "id": "a8f60004-cb07-4dd7-967a-bd5e26eef375",
   "metadata": {},
   "outputs": [],
   "source": [
    "frutas.append(\"mango\")"
   ]
  },
  {
   "cell_type": "code",
   "execution_count": 9,
   "id": "9483a727-dcdd-4c14-bc06-688a5ca28881",
   "metadata": {},
   "outputs": [
    {
     "data": {
      "text/plain": [
       "['sandia', 'platano', 'pera', 'mango']"
      ]
     },
     "execution_count": 9,
     "metadata": {},
     "output_type": "execute_result"
    }
   ],
   "source": [
    "frutas"
   ]
  },
  {
   "cell_type": "code",
   "execution_count": 10,
   "id": "fbd5afd7-31e2-4cbe-8d86-211c56fee891",
   "metadata": {},
   "outputs": [],
   "source": [
    "frutas.sort() ##ordena alfabeticamente"
   ]
  },
  {
   "cell_type": "code",
   "execution_count": 11,
   "id": "bc4d8da6-dec6-4288-90e7-efaad565e77e",
   "metadata": {},
   "outputs": [
    {
     "data": {
      "text/plain": [
       "['mango', 'pera', 'platano', 'sandia']"
      ]
     },
     "execution_count": 11,
     "metadata": {},
     "output_type": "execute_result"
    }
   ],
   "source": [
    "frutas"
   ]
  },
  {
   "cell_type": "code",
   "execution_count": 12,
   "id": "0786f7e0-f8f1-4bf0-bd61-b2382cd97f20",
   "metadata": {},
   "outputs": [],
   "source": [
    "frutas.remove(\"platano\")"
   ]
  },
  {
   "cell_type": "code",
   "execution_count": 13,
   "id": "62d1d1a1-53be-4915-9837-4c7f185f17b3",
   "metadata": {},
   "outputs": [
    {
     "data": {
      "text/plain": [
       "['mango', 'pera', 'sandia']"
      ]
     },
     "execution_count": 13,
     "metadata": {},
     "output_type": "execute_result"
    }
   ],
   "source": [
    "frutas"
   ]
  },
  {
   "cell_type": "code",
   "execution_count": 14,
   "id": "0a99ef3a-3d30-4170-bf58-b3bdc7706399",
   "metadata": {},
   "outputs": [
    {
     "data": {
      "text/plain": [
       "[1, 2, 3, 4, 5, 6]"
      ]
     },
     "execution_count": 14,
     "metadata": {},
     "output_type": "execute_result"
    }
   ],
   "source": [
    "lista1 = [1, 2, 3]\n",
    "lista2 = [4, 5, 6]\n",
    "combinada = lista1 + lista2\n",
    "combinada"
   ]
  },
  {
   "cell_type": "code",
   "execution_count": null,
   "id": "45b059bf-f51a-4836-8b94-beeb20b5649d",
   "metadata": {},
   "outputs": [],
   "source": []
  }
 ],
 "metadata": {
  "kernelspec": {
   "display_name": "Python [conda env:base] *",
   "language": "python",
   "name": "conda-base-py"
  },
  "language_info": {
   "codemirror_mode": {
    "name": "ipython",
    "version": 3
   },
   "file_extension": ".py",
   "mimetype": "text/x-python",
   "name": "python",
   "nbconvert_exporter": "python",
   "pygments_lexer": "ipython3",
   "version": "3.13.5"
  }
 },
 "nbformat": 4,
 "nbformat_minor": 5
}
