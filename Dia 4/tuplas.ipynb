{
 "cells": [
  {
   "cell_type": "code",
   "execution_count": 1,
   "id": "16938d44-d680-4c56-ad85-251a9fd02902",
   "metadata": {},
   "outputs": [],
   "source": [
    "t = 1, 2"
   ]
  },
  {
   "cell_type": "code",
   "execution_count": 2,
   "id": "4f860d06-cc2e-42e1-abb9-78b87fca5ea9",
   "metadata": {},
   "outputs": [
    {
     "data": {
      "text/plain": [
       "tuple"
      ]
     },
     "execution_count": 2,
     "metadata": {},
     "output_type": "execute_result"
    }
   ],
   "source": [
    "type(t)"
   ]
  },
  {
   "cell_type": "code",
   "execution_count": 3,
   "id": "9315d9c9-2eff-4d84-8916-e77981aa9c44",
   "metadata": {},
   "outputs": [],
   "source": [
    "tt = (1, 2)"
   ]
  },
  {
   "cell_type": "code",
   "execution_count": 4,
   "id": "709963ae-bb1a-4f0e-bb32-3ee254439a84",
   "metadata": {},
   "outputs": [
    {
     "data": {
      "text/plain": [
       "tuple"
      ]
     },
     "execution_count": 4,
     "metadata": {},
     "output_type": "execute_result"
    }
   ],
   "source": [
    "type(tt)"
   ]
  },
  {
   "cell_type": "code",
   "execution_count": 5,
   "id": "c1f2817b-7436-4254-b721-c335e05b3c0a",
   "metadata": {},
   "outputs": [
    {
     "data": {
      "text/plain": [
       "tuple"
      ]
     },
     "execution_count": 5,
     "metadata": {},
     "output_type": "execute_result"
    }
   ],
   "source": [
    "tm = ('Javier', 'Moreno', 24)\n",
    "type(tm)"
   ]
  },
  {
   "cell_type": "code",
   "execution_count": 6,
   "id": "ee055006-8ab9-4c40-b52e-1d9da4c4427f",
   "metadata": {},
   "outputs": [],
   "source": [
    "mi_tupla = (1, 2, 3, 2, 2, 4)\n",
    "elemento = mi_tupla[2]"
   ]
  },
  {
   "cell_type": "code",
   "execution_count": 7,
   "id": "c595d3e5-ac74-40c7-9128-46bc25dc8831",
   "metadata": {},
   "outputs": [
    {
     "data": {
      "text/plain": [
       "3"
      ]
     },
     "execution_count": 7,
     "metadata": {},
     "output_type": "execute_result"
    }
   ],
   "source": [
    "elemento"
   ]
  },
  {
   "cell_type": "code",
   "execution_count": 8,
   "id": "f5c305f7-63ae-49fb-8d2e-336039b807f9",
   "metadata": {},
   "outputs": [
    {
     "data": {
      "text/plain": [
       "(2, 3)"
      ]
     },
     "execution_count": 8,
     "metadata": {},
     "output_type": "execute_result"
    }
   ],
   "source": [
    "sub_tupla = mi_tupla[1:3]\n",
    "sub_tupla"
   ]
  },
  {
   "cell_type": "code",
   "execution_count": 9,
   "id": "2169aad4-b615-41b8-a065-99960842ce6d",
   "metadata": {},
   "outputs": [
    {
     "data": {
      "text/plain": [
       "3"
      ]
     },
     "execution_count": 9,
     "metadata": {},
     "output_type": "execute_result"
    }
   ],
   "source": [
    "mi_tupla.count(2)"
   ]
  },
  {
   "cell_type": "code",
   "execution_count": 10,
   "id": "0a4321d6-9743-4489-b1df-df3f90c4d2c3",
   "metadata": {},
   "outputs": [
    {
     "data": {
      "text/plain": [
       "2"
      ]
     },
     "execution_count": 10,
     "metadata": {},
     "output_type": "execute_result"
    }
   ],
   "source": [
    "mi_tupla.index(3)"
   ]
  },
  {
   "cell_type": "code",
   "execution_count": 11,
   "id": "0ef20ce2-d527-4a83-8fd6-cce94b03ab6e",
   "metadata": {},
   "outputs": [
    {
     "data": {
      "text/plain": [
       "3"
      ]
     },
     "execution_count": 11,
     "metadata": {},
     "output_type": "execute_result"
    }
   ],
   "source": [
    "tupla = (1, 2, 3)\n",
    "a, b, c = tupla\n",
    "c"
   ]
  },
  {
   "cell_type": "code",
   "execution_count": 15,
   "id": "5c137086-ffa7-4bf5-b337-af210f3c9c96",
   "metadata": {},
   "outputs": [
    {
     "data": {
      "text/plain": [
       "(('Javier', 'Moreno'), (17, 8, 2000))"
      ]
     },
     "execution_count": 15,
     "metadata": {},
     "output_type": "execute_result"
    }
   ],
   "source": [
    "nacimiento = (17, 8, 2000)\n",
    "nombre = ('Javier', 'Moreno')\n",
    "cliente1 = (nombre, nacimiento)\n",
    "cliente1"
   ]
  },
  {
   "cell_type": "markdown",
   "id": "d195cb73-390d-4563-ba2f-1839c7f49ad0",
   "metadata": {},
   "source": [
    "## Diccionarios"
   ]
  },
  {
   "cell_type": "code",
   "execution_count": 16,
   "id": "d50ee1fe-fb7a-48a8-afa5-00e88647d61f",
   "metadata": {},
   "outputs": [
    {
     "data": {
      "text/plain": [
       "{'Juan': 25, 'Javier': 24}"
      ]
     },
     "execution_count": 16,
     "metadata": {},
     "output_type": "execute_result"
    }
   ],
   "source": [
    "edades = {\"Juan\": 25, 'Javier': 24}\n",
    "edades"
   ]
  },
  {
   "cell_type": "code",
   "execution_count": 17,
   "id": "d283bbec-c9de-43dd-937d-5f99a27add02",
   "metadata": {},
   "outputs": [
    {
     "data": {
      "text/plain": [
       "2"
      ]
     },
     "execution_count": 17,
     "metadata": {},
     "output_type": "execute_result"
    }
   ],
   "source": [
    "len(edades)"
   ]
  },
  {
   "cell_type": "code",
   "execution_count": 18,
   "id": "cbbc1d89-7f2f-45e6-9b38-43c3fa7aec97",
   "metadata": {},
   "outputs": [
    {
     "data": {
      "text/plain": [
       "25"
      ]
     },
     "execution_count": 18,
     "metadata": {},
     "output_type": "execute_result"
    }
   ],
   "source": [
    "edades['Juan']"
   ]
  },
  {
   "cell_type": "code",
   "execution_count": 19,
   "id": "0fceb5eb-5e63-47e7-a7f4-3a3ea1524e84",
   "metadata": {},
   "outputs": [
    {
     "data": {
      "text/plain": [
       "{'Juan': 28, 'Javier': 24}"
      ]
     },
     "execution_count": 19,
     "metadata": {},
     "output_type": "execute_result"
    }
   ],
   "source": [
    "edades['Juan'] = 28\n",
    "edades"
   ]
  },
  {
   "cell_type": "code",
   "execution_count": 20,
   "id": "f23f38c9-e4c7-40ca-ace8-4644f76e7f94",
   "metadata": {},
   "outputs": [],
   "source": [
    "edades['Laura'] = 30"
   ]
  },
  {
   "cell_type": "code",
   "execution_count": 21,
   "id": "4b73ae52-2ba3-484d-b0b9-096ea69f3f09",
   "metadata": {},
   "outputs": [
    {
     "data": {
      "text/plain": [
       "{'Juan': 28, 'Javier': 24, 'Laura': 30}"
      ]
     },
     "execution_count": 21,
     "metadata": {},
     "output_type": "execute_result"
    }
   ],
   "source": [
    "edades"
   ]
  },
  {
   "cell_type": "code",
   "execution_count": null,
   "id": "f245d3ca-00a4-4861-a1f8-551ed39cea06",
   "metadata": {},
   "outputs": [],
   "source": []
  }
 ],
 "metadata": {
  "kernelspec": {
   "display_name": "Python [conda env:base] *",
   "language": "python",
   "name": "conda-base-py"
  },
  "language_info": {
   "codemirror_mode": {
    "name": "ipython",
    "version": 3
   },
   "file_extension": ".py",
   "mimetype": "text/x-python",
   "name": "python",
   "nbconvert_exporter": "python",
   "pygments_lexer": "ipython3",
   "version": "3.13.5"
  }
 },
 "nbformat": 4,
 "nbformat_minor": 5
}
