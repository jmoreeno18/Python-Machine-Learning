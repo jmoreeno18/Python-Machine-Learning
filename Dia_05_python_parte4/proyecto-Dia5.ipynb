{
 "cells": [
  {
   "cell_type": "code",
   "execution_count": 3,
   "id": "5fda4850-d4d0-4724-8d65-db1069f1f721",
   "metadata": {},
   "outputs": [
    {
     "name": "stdin",
     "output_type": "stream",
     "text": [
      "Dime el numero de la tabla de multiplicar que desees:  8\n",
      "Dime el numero limite con el que multiplicar:  10\n"
     ]
    },
    {
     "name": "stdout",
     "output_type": "stream",
     "text": [
      "\n",
      "Tabla del 8 hasta el 10:\n",
      "\n",
      "8 x 1 = 8\n",
      "8 x 2 = 16\n",
      "8 x 3 = 24\n",
      "8 x 4 = 32\n",
      "8 x 5 = 40\n",
      "8 x 6 = 48\n",
      "8 x 7 = 56\n",
      "8 x 8 = 64\n",
      "8 x 9 = 72\n",
      "8 x 10 = 80\n"
     ]
    },
    {
     "name": "stdin",
     "output_type": "stream",
     "text": [
      "\n",
      "¿Quieres hacer otra tabla? (s/n):  s\n"
     ]
    },
    {
     "name": "stdout",
     "output_type": "stream",
     "text": [
      "Pulse s ó n\n"
     ]
    },
    {
     "name": "stdin",
     "output_type": "stream",
     "text": [
      "Dime el numero de la tabla de multiplicar que desees:  5\n",
      "Dime el numero limite con el que multiplicar:  4\n"
     ]
    },
    {
     "name": "stdout",
     "output_type": "stream",
     "text": [
      "\n",
      "Tabla del 5 hasta el 4:\n",
      "\n",
      "5 x 1 = 5\n",
      "5 x 2 = 10\n",
      "5 x 3 = 15\n",
      "5 x 4 = 20\n"
     ]
    },
    {
     "name": "stdin",
     "output_type": "stream",
     "text": [
      "\n",
      "¿Quieres hacer otra tabla? (s/n):  a\n"
     ]
    },
    {
     "name": "stdout",
     "output_type": "stream",
     "text": [
      "¡Hasta luego!\n"
     ]
    }
   ],
   "source": [
    "def tabla_multiplicar():\n",
    "    numero = int(input('Dime el numero de la tabla de multiplicar que desees: '))\n",
    "    limite = int(input('Dime el numero limite con el que multiplicar: '))\n",
    "    return numero, limite\n",
    "\n",
    "def calculo_tabla_multiplicar(numero, limite):\n",
    "    print(f'\\nTabla del {numero} hasta el {limite}:\\n')\n",
    "    for i in range(1, limite + 1):\n",
    "        print(f\"{numero} x {i} = {numero * i}\")\n",
    "        \n",
    "def final():\n",
    "    numero, limite = tabla_multiplicar()\n",
    "    calculo_tabla_multiplicar(numero, limite)\n",
    "\n",
    "while True:\n",
    "    final()\n",
    "    respuesta = input(\"\\n¿Quieres hacer otra tabla? (s/n): \").lower()\n",
    "    if respuesta != 's':\n",
    "        print(\"¡Hasta luego!\")\n",
    "        break\n",
    "   "
   ]
  },
  {
   "cell_type": "code",
   "execution_count": null,
   "id": "d94b9dc9-c18a-42fa-91e7-b924dbe926ea",
   "metadata": {},
   "outputs": [],
   "source": []
  }
 ],
 "metadata": {
  "kernelspec": {
   "display_name": "Python [conda env:base] *",
   "language": "python",
   "name": "conda-base-py"
  },
  "language_info": {
   "codemirror_mode": {
    "name": "ipython",
    "version": 3
   },
   "file_extension": ".py",
   "mimetype": "text/x-python",
   "name": "python",
   "nbconvert_exporter": "python",
   "pygments_lexer": "ipython3",
   "version": "3.13.5"
  }
 },
 "nbformat": 4,
 "nbformat_minor": 5
}
