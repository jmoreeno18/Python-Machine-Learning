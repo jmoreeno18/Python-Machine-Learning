{
 "cells": [
  {
   "cell_type": "code",
   "execution_count": 1,
   "id": "29d04f6b-4713-4e64-b672-e7981c6a6d05",
   "metadata": {},
   "outputs": [
    {
     "name": "stdout",
     "output_type": "stream",
     "text": [
      "0\n",
      "1\n",
      "2\n",
      "3\n",
      "4\n",
      "5\n"
     ]
    }
   ],
   "source": [
    "for item in [0, 1, 2, 3, 4, 5]:\n",
    "    print(item)"
   ]
  },
  {
   "cell_type": "code",
   "execution_count": 2,
   "id": "3eb13ae1-ad3b-42de-8bd5-9b64cf0ec28e",
   "metadata": {},
   "outputs": [
    {
     "name": "stdout",
     "output_type": "stream",
     "text": [
      "p\n",
      "y\n",
      "t\n",
      "h\n",
      "o\n",
      "n\n"
     ]
    }
   ],
   "source": [
    "for letra in \"python\":\n",
    "    print(letra)"
   ]
  },
  {
   "cell_type": "code",
   "execution_count": 3,
   "id": "d48d67b4-78ac-4c91-8aff-92be75c6d9af",
   "metadata": {},
   "outputs": [
    {
     "name": "stdout",
     "output_type": "stream",
     "text": [
      "España tiene 6 letras\n",
      "Argentina tiene 9 letras\n",
      "Colombia tiene 8 letras\n",
      "Mexico tiene 6 letras\n"
     ]
    }
   ],
   "source": [
    "paises = [\"España\", \"Argentina\", \"Colombia\", \"Mexico\"]\n",
    "\n",
    "for p in paises:\n",
    "    letras = len(p)\n",
    "    print(f\"{p} tiene {letras} letras\")"
   ]
  },
  {
   "cell_type": "code",
   "execution_count": 4,
   "id": "a4007292-b8c5-460d-9c1f-8deeefe51858",
   "metadata": {},
   "outputs": [
    {
     "name": "stdout",
     "output_type": "stream",
     "text": [
      "Argentina\n",
      "Colombia\n"
     ]
    }
   ],
   "source": [
    "for p in paises: \n",
    "    if (len(p) > 6):\n",
    "        print(p)b  "
   ]
  },
  {
   "cell_type": "code",
   "execution_count": 6,
   "id": "28e37fc2-af1c-41bb-b077-a71b7d820b29",
   "metadata": {},
   "outputs": [
    {
     "name": "stdout",
     "output_type": "stream",
     "text": [
      "Sombrero Rojo\n",
      "Pantalon Rojo\n",
      "Zapato Rojo\n",
      "Sombrero Azul\n",
      "Pantalon Azul\n",
      "Zapato Azul\n",
      "Sombrero Verde\n",
      "Pantalon Verde\n",
      "Zapato Verde\n"
     ]
    }
   ],
   "source": [
    "colores = [\"Rojo\", \"Azul\", \"Verde\"]\n",
    "prendas = [\"Sombrero\", \"Pantalon\", \"Zapato\"]\n",
    "\n",
    "for color in colores:\n",
    "    for prenda in prendas:\n",
    "        print(prenda, color)\n",
    "    "
   ]
  },
  {
   "cell_type": "code",
   "execution_count": 11,
   "id": "1d2a3ec9-1681-45ec-aa91-526129b9be08",
   "metadata": {},
   "outputs": [
    {
     "name": "stdout",
     "output_type": "stream",
     "text": [
      "0\n",
      "1\n",
      "2\n",
      "3\n",
      "4\n",
      "5\n",
      "6\n"
     ]
    }
   ],
   "source": [
    "miRango = range(7)\n",
    "for item in miRango:\n",
    "    print(item)"
   ]
  },
  {
   "cell_type": "code",
   "execution_count": 12,
   "id": "c784596d-ce71-4753-a283-081db737eadc",
   "metadata": {},
   "outputs": [
    {
     "name": "stdout",
     "output_type": "stream",
     "text": [
      "5\n",
      "6\n",
      "7\n",
      "8\n",
      "9\n"
     ]
    }
   ],
   "source": [
    "miRango = range(5, 10)\n",
    "for item in miRango:\n",
    "    print(item) "
   ]
  },
  {
   "cell_type": "code",
   "execution_count": 13,
   "id": "b0463966-4f54-45d6-a8d4-3ccb1d9305cd",
   "metadata": {},
   "outputs": [
    {
     "name": "stdout",
     "output_type": "stream",
     "text": [
      "0\n",
      "2\n",
      "4\n",
      "6\n",
      "8\n",
      "10\n"
     ]
    }
   ],
   "source": [
    "miRango = range(0, 11, 2)\n",
    "for item in miRango:\n",
    "    print(item)"
   ]
  },
  {
   "cell_type": "markdown",
   "id": "afaf3d61-e950-4b85-9d01-c43cde83e811",
   "metadata": {},
   "source": [
    "## while"
   ]
  },
  {
   "cell_type": "code",
   "execution_count": 15,
   "id": "98a8a1d9-37bd-4294-a1bf-90635070a24b",
   "metadata": {},
   "outputs": [
    {
     "name": "stdout",
     "output_type": "stream",
     "text": [
      "0\n",
      "1\n",
      "2\n",
      "3\n",
      "4\n"
     ]
    }
   ],
   "source": [
    "contador = 0\n",
    "while contador < 5:\n",
    "    print(contador)\n",
    "    contador += 1 "
   ]
  },
  {
   "cell_type": "code",
   "execution_count": 16,
   "id": "448cd427-0f27-444e-b650-4c2235e5562d",
   "metadata": {},
   "outputs": [
    {
     "name": "stdout",
     "output_type": "stream",
     "text": [
      "1\n",
      "2\n",
      "3\n",
      "4\n",
      "6\n",
      "7\n"
     ]
    }
   ],
   "source": [
    "contador = 0\n",
    "\n",
    "while contador < 10:\n",
    "    contador += 1\n",
    "    if(contador == 5):\n",
    "        continue\n",
    "    if(contador == 8):\n",
    "        break\n",
    "    print(contador)\n",
    "    "
   ]
  },
  {
   "cell_type": "code",
   "execution_count": 1,
   "id": "b2e6cf26-88ee-4cb8-9fc4-f45336008434",
   "metadata": {},
   "outputs": [],
   "source": [
    "def saludo():\n",
    "    print('Hola mundo')"
   ]
  },
  {
   "cell_type": "code",
   "execution_count": 2,
   "id": "9801ee51-8fad-42a2-a460-c7a5cd28ba83",
   "metadata": {},
   "outputs": [
    {
     "name": "stdout",
     "output_type": "stream",
     "text": [
      "Hola mundo\n"
     ]
    }
   ],
   "source": [
    "saludo()"
   ]
  },
  {
   "cell_type": "code",
   "execution_count": 3,
   "id": "8adb638e-cc71-4155-ab8c-3e3d5fd0050b",
   "metadata": {},
   "outputs": [],
   "source": [
    "def tu_saludo(nombre):\n",
    "    print(f'hola {nombre}')"
   ]
  },
  {
   "cell_type": "code",
   "execution_count": 4,
   "id": "0f0ba870-d07c-4250-805f-c7aa840cbd73",
   "metadata": {},
   "outputs": [
    {
     "name": "stdout",
     "output_type": "stream",
     "text": [
      "hola javier\n"
     ]
    }
   ],
   "source": [
    "tu_saludo('javier')"
   ]
  },
  {
   "cell_type": "code",
   "execution_count": 5,
   "id": "f58cb899-e6ab-4008-8e06-e19a1b1983a2",
   "metadata": {},
   "outputs": [],
   "source": [
    "def sumar (a, b):\n",
    "    resultado = a + b\n",
    "    return resultado"
   ]
  },
  {
   "cell_type": "code",
   "execution_count": 6,
   "id": "15d10e6a-60f4-48d8-a78c-2144c1a74257",
   "metadata": {},
   "outputs": [
    {
     "data": {
      "text/plain": [
       "5"
      ]
     },
     "execution_count": 6,
     "metadata": {},
     "output_type": "execute_result"
    }
   ],
   "source": [
    "sumar (2,3)"
   ]
  },
  {
   "cell_type": "code",
   "execution_count": 7,
   "id": "ace11a39-bbd5-48a9-8808-016834679738",
   "metadata": {},
   "outputs": [],
   "source": [
    "numero = sumar (2, 3)"
   ]
  },
  {
   "cell_type": "code",
   "execution_count": 8,
   "id": "00ed2f28-d1eb-4619-9512-c883e8ecc436",
   "metadata": {},
   "outputs": [
    {
     "data": {
      "text/plain": [
       "5"
      ]
     },
     "execution_count": 8,
     "metadata": {},
     "output_type": "execute_result"
    }
   ],
   "source": [
    "numero"
   ]
  },
  {
   "cell_type": "code",
   "execution_count": 9,
   "id": "1cae0f47-ea6c-4dc8-bce0-6dc21fdfff3f",
   "metadata": {},
   "outputs": [
    {
     "data": {
      "text/plain": [
       "10"
      ]
     },
     "execution_count": 9,
     "metadata": {},
     "output_type": "execute_result"
    }
   ],
   "source": [
    "numero * 2"
   ]
  },
  {
   "cell_type": "code",
   "execution_count": 20,
   "id": "d1416c29-1006-4dc8-a356-843f78636a16",
   "metadata": {},
   "outputs": [],
   "source": [
    "def numeros_pares(numero):\n",
    "    par = range(0, numero, 2)\n",
    "    for n in par:\n",
    "        print(n)\n",
    "    if (n % 2 == 0):\n",
    "        print(numero)"
   ]
  },
  {
   "cell_type": "code",
   "execution_count": 21,
   "id": "9988a4c5-7cdd-4090-8f76-2c0e62216f29",
   "metadata": {},
   "outputs": [
    {
     "name": "stdout",
     "output_type": "stream",
     "text": [
      "0\n",
      "2\n",
      "4\n",
      "6\n",
      "8\n",
      "10\n"
     ]
    }
   ],
   "source": [
    "numeros_pares(10)"
   ]
  },
  {
   "cell_type": "code",
   "execution_count": 22,
   "id": "0672c70d-4459-4bb0-ab4f-39e536a3e4c7",
   "metadata": {},
   "outputs": [],
   "source": [
    "def pedir_nombre():\n",
    "    nombre = input(\"Dime tu nombre: \")\n",
    "    return nombre"
   ]
  },
  {
   "cell_type": "code",
   "execution_count": 23,
   "id": "c825f694-cb55-453b-9ac3-07a4d25c4ac1",
   "metadata": {},
   "outputs": [],
   "source": [
    "def pedir_apellido():\n",
    "    apellido = input(\"Dime tu apellido: \")\n",
    "    return apellido\n"
   ]
  },
  {
   "cell_type": "code",
   "execution_count": 24,
   "id": "9327859b-9393-47d1-ba4f-4c795089621c",
   "metadata": {},
   "outputs": [],
   "source": [
    "def saludar(): \n",
    "    saludo = f\"Hola {pedir_nombre()} {pedir_apellido()}\"\n",
    "    print(saludo)"
   ]
  },
  {
   "cell_type": "code",
   "execution_count": 25,
   "id": "d2a9af80-2d7e-48dd-ab5a-6abba8a5afab",
   "metadata": {},
   "outputs": [
    {
     "name": "stdin",
     "output_type": "stream",
     "text": [
      "Dime tu nombre:  Javier\n",
      "Dime tu apellido:  Moreno\n"
     ]
    },
    {
     "name": "stdout",
     "output_type": "stream",
     "text": [
      "Hola Javier Moreno\n"
     ]
    }
   ],
   "source": [
    "saludar()"
   ]
  },
  {
   "cell_type": "code",
   "execution_count": null,
   "id": "06ce80a3-6c56-4721-9a90-a7cfddc0f171",
   "metadata": {},
   "outputs": [],
   "source": []
  }
 ],
 "metadata": {
  "kernelspec": {
   "display_name": "Python [conda env:base] *",
   "language": "python",
   "name": "conda-base-py"
  },
  "language_info": {
   "codemirror_mode": {
    "name": "ipython",
    "version": 3
   },
   "file_extension": ".py",
   "mimetype": "text/x-python",
   "name": "python",
   "nbconvert_exporter": "python",
   "pygments_lexer": "ipython3",
   "version": "3.13.5"
  }
 },
 "nbformat": 4,
 "nbformat_minor": 5
}
