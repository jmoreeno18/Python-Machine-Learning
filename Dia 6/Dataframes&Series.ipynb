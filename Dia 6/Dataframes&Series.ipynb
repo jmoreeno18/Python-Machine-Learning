{
 "cells": [
  {
   "cell_type": "code",
   "execution_count": 1,
   "id": "a5030dad-433e-40ff-8edd-296736352ba6",
   "metadata": {},
   "outputs": [],
   "source": [
    "import pandas as pd"
   ]
  },
  {
   "cell_type": "markdown",
   "id": "13e43e7d-ee6c-473a-a275-dde75890e0a1",
   "metadata": {},
   "source": [
    "## DataFrames → Tablas \n",
    "## Series → Columnas"
   ]
  },
  {
   "cell_type": "code",
   "execution_count": 3,
   "id": "61e3abb6-6404-49e2-afc8-ecae29697a7f",
   "metadata": {},
   "outputs": [
    {
     "data": {
      "text/plain": [
       "{'nombre': ['Pedro', 'Juan', 'Lorena'], 'edad': [25, 39, 33]}"
      ]
     },
     "execution_count": 3,
     "metadata": {},
     "output_type": "execute_result"
    }
   ],
   "source": [
    "datos = {'nombre': [\"Pedro\", \"Juan\", \"Lorena\"], \"edad\": [25, 39, 33]}\n",
    "datos"
   ]
  },
  {
   "cell_type": "code",
   "execution_count": 4,
   "id": "93c28c09-5ff4-44be-bcc0-cd7ea78597b6",
   "metadata": {},
   "outputs": [
    {
     "data": {
      "text/html": [
       "<div>\n",
       "<style scoped>\n",
       "    .dataframe tbody tr th:only-of-type {\n",
       "        vertical-align: middle;\n",
       "    }\n",
       "\n",
       "    .dataframe tbody tr th {\n",
       "        vertical-align: top;\n",
       "    }\n",
       "\n",
       "    .dataframe thead th {\n",
       "        text-align: right;\n",
       "    }\n",
       "</style>\n",
       "<table border=\"1\" class=\"dataframe\">\n",
       "  <thead>\n",
       "    <tr style=\"text-align: right;\">\n",
       "      <th></th>\n",
       "      <th>nombre</th>\n",
       "      <th>edad</th>\n",
       "    </tr>\n",
       "  </thead>\n",
       "  <tbody>\n",
       "    <tr>\n",
       "      <th>0</th>\n",
       "      <td>Pedro</td>\n",
       "      <td>25</td>\n",
       "    </tr>\n",
       "    <tr>\n",
       "      <th>1</th>\n",
       "      <td>Juan</td>\n",
       "      <td>39</td>\n",
       "    </tr>\n",
       "    <tr>\n",
       "      <th>2</th>\n",
       "      <td>Lorena</td>\n",
       "      <td>33</td>\n",
       "    </tr>\n",
       "  </tbody>\n",
       "</table>\n",
       "</div>"
      ],
      "text/plain": [
       "   nombre  edad\n",
       "0   Pedro    25\n",
       "1    Juan    39\n",
       "2  Lorena    33"
      ]
     },
     "execution_count": 4,
     "metadata": {},
     "output_type": "execute_result"
    }
   ],
   "source": [
    "df = pd.DataFrame(datos)\n",
    "df"
   ]
  },
  {
   "cell_type": "code",
   "execution_count": 5,
   "id": "7f41da99-fc03-42e4-a114-feb2bd43867f",
   "metadata": {},
   "outputs": [
    {
     "data": {
      "text/plain": [
       "0     Pedro\n",
       "1      Juan\n",
       "2    Lorena\n",
       "Name: nombre, dtype: object"
      ]
     },
     "execution_count": 5,
     "metadata": {},
     "output_type": "execute_result"
    }
   ],
   "source": [
    "df['nombre']"
   ]
  },
  {
   "cell_type": "code",
   "execution_count": 7,
   "id": "4de145b0-008b-4b81-9959-38d324b263b0",
   "metadata": {},
   "outputs": [
    {
     "name": "stdout",
     "output_type": "stream",
     "text": [
      "Shape: (3, 2)\n",
      "Columnas: Index(['nombre', 'edad'], dtype='object')\n",
      "Índice: RangeIndex(start=0, stop=3, step=1)\n"
     ]
    }
   ],
   "source": [
    "import pandas as pd \n",
    "\n",
    "datos = {'nombre' : ['Ana', 'Luis', 'Carlos'], 'edad': [30, 25, 40]}\n",
    "\n",
    "df_empleados = pd.DataFrame(datos)\n",
    "\n",
    "# Obtener la forma (número de filas y columnas)\n",
    "shape_df = df_empleados.shape\n",
    "\n",
    "# Obtener los nombres de las columnas\n",
    "columns_df = df_empleados.columns\n",
    "\n",
    "# Obtener los índices del DataFrame\n",
    "index_df = df_empleados.index\n",
    "\n",
    "# Imprimir resultados\n",
    "print(\"Shape:\", shape_df)\n",
    "print(\"Columnas:\", columns_df)\n",
    "print(\"Índice:\", index_df)"
   ]
  },
  {
   "cell_type": "code",
   "execution_count": null,
   "id": "6cbfdb1a-b556-45d0-a8cc-01ce3a07a8b0",
   "metadata": {},
   "outputs": [],
   "source": []
  }
 ],
 "metadata": {
  "kernelspec": {
   "display_name": "Python [conda env:base] *",
   "language": "python",
   "name": "conda-base-py"
  },
  "language_info": {
   "codemirror_mode": {
    "name": "ipython",
    "version": 3
   },
   "file_extension": ".py",
   "mimetype": "text/x-python",
   "name": "python",
   "nbconvert_exporter": "python",
   "pygments_lexer": "ipython3",
   "version": "3.13.5"
  }
 },
 "nbformat": 4,
 "nbformat_minor": 5
}
