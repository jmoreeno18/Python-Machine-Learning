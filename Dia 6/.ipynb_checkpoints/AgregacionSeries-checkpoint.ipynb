{
 "cells": [
  {
   "cell_type": "code",
   "execution_count": 11,
   "id": "ab26de5e-1895-4556-904f-d437e2bd8a10",
   "metadata": {},
   "outputs": [
    {
     "data": {
      "text/plain": [
       "0     10\n",
       "1     20\n",
       "2     30\n",
       "3     40\n",
       "4    500\n",
       "dtype: int64"
      ]
     },
     "execution_count": 11,
     "metadata": {},
     "output_type": "execute_result"
    }
   ],
   "source": [
    "import pandas as pd \n",
    "\n",
    "numeros = pd.Series([10, 20, 30, 40, 500])\n",
    "numeros"
   ]
  },
  {
   "cell_type": "code",
   "execution_count": 12,
   "id": "0e73f465-6d7e-441a-831c-7588c900d112",
   "metadata": {},
   "outputs": [
    {
     "name": "stdout",
     "output_type": "stream",
     "text": [
      "El promedio es 120.0\n"
     ]
    }
   ],
   "source": [
    "promedio = numeros.mean()\n",
    "print(f'El promedio es {promedio}')"
   ]
  },
  {
   "cell_type": "code",
   "execution_count": 13,
   "id": "f7f84f8d-6ee9-4c12-918b-c84bc069a675",
   "metadata": {},
   "outputs": [
    {
     "name": "stdout",
     "output_type": "stream",
     "text": [
      "600\n"
     ]
    }
   ],
   "source": [
    "total = numeros.sum()\n",
    "print(total)"
   ]
  },
  {
   "cell_type": "code",
   "execution_count": 14,
   "id": "75940b16-553c-40f6-9c56-1669d03504a9",
   "metadata": {},
   "outputs": [
    {
     "data": {
      "text/plain": [
       "500"
      ]
     },
     "execution_count": 14,
     "metadata": {},
     "output_type": "execute_result"
    }
   ],
   "source": [
    "maximo = numeros.max()\n",
    "maximo"
   ]
  },
  {
   "cell_type": "code",
   "execution_count": 15,
   "id": "78b7ec1f-9ab8-4b16-af8e-2529d3f24f70",
   "metadata": {},
   "outputs": [
    {
     "data": {
      "text/plain": [
       "10"
      ]
     },
     "execution_count": 15,
     "metadata": {},
     "output_type": "execute_result"
    }
   ],
   "source": [
    "minimo = numeros.min()\n",
    "minimo"
   ]
  },
  {
   "cell_type": "code",
   "execution_count": 16,
   "id": "72163efa-2079-44f4-9ae0-24d44ed987a4",
   "metadata": {},
   "outputs": [
    {
     "data": {
      "text/plain": [
       "30.0"
      ]
     },
     "execution_count": 16,
     "metadata": {},
     "output_type": "execute_result"
    }
   ],
   "source": [
    "mediana = numeros.median()\n",
    "mediana"
   ]
  },
  {
   "cell_type": "code",
   "execution_count": 17,
   "id": "3086c7c5-bfc4-4653-b8cf-e2174ee15aee",
   "metadata": {},
   "outputs": [
    {
     "name": "stdout",
     "output_type": "stream",
     "text": [
      "120.0\n"
     ]
    }
   ],
   "source": [
    "media = numeros.mean()\n",
    "print(media)"
   ]
  },
  {
   "cell_type": "code",
   "execution_count": 27,
   "id": "032b3172-a17c-4f12-b5f4-092c31dc99fc",
   "metadata": {},
   "outputs": [
    {
     "name": "stdout",
     "output_type": "stream",
     "text": [
      "La suma total sería: 1060\n",
      "El día con mayores ventas fue: Viernes\n",
      "El promedio de ventas es: 151.43\n"
     ]
    }
   ],
   "source": [
    "import pandas as pd \n",
    "\n",
    "ventas = [120, 150, 90, 200, 210, 130, 160]\n",
    "indices = ['Lunes', 'Martes', 'Miércoles', 'Jueves', 'Viernes', 'Sábado', 'Domingo']\n",
    "\n",
    "serie = pd.Series(ventas, index=indices)\n",
    "\n",
    "# Total de ventas\n",
    "suma_total_ventas = serie.sum()\n",
    "print(f'La suma total sería: {suma_total_ventas}')\n",
    "\n",
    "# Día con mayores ventas (solo el índice, es decir, el nombre del día)\n",
    "dia_mayores_ventas = serie.idxmax()\n",
    "print(f'El día con mayores ventas fue: {dia_mayores_ventas}')\n",
    "\n",
    "promedio_ventas = serie.mean()\n",
    "print(f'El promedio de ventas es: {promedio_ventas:.2f}')"
   ]
  },
  {
   "cell_type": "code",
   "execution_count": null,
   "id": "4337fd63-ce8c-4273-ad21-dbff9a9fcd60",
   "metadata": {},
   "outputs": [],
   "source": []
  }
 ],
 "metadata": {
  "kernelspec": {
   "display_name": "Python [conda env:base] *",
   "language": "python",
   "name": "conda-base-py"
  },
  "language_info": {
   "codemirror_mode": {
    "name": "ipython",
    "version": 3
   },
   "file_extension": ".py",
   "mimetype": "text/x-python",
   "name": "python",
   "nbconvert_exporter": "python",
   "pygments_lexer": "ipython3",
   "version": "3.13.5"
  }
 },
 "nbformat": 4,
 "nbformat_minor": 5
}
